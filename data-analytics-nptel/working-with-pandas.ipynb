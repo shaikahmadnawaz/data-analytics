{
 "cells": [
  {
   "cell_type": "code",
   "execution_count": 1,
   "id": "1245322a",
   "metadata": {},
   "outputs": [
    {
     "name": "stdout",
     "output_type": "stream",
     "text": [
      "     Season               Name Nationality          Type  \\\n",
      "0      2023    Ajinkya Rahane      Indian        Batter    \n",
      "1      2023     Bhagath Varma      Indian   All-Rounder    \n",
      "2      2023     Kyle Jamieson    Overseas        Bowler    \n",
      "3      2023       Ajay Mandal      Indian   All-Rounder    \n",
      "4      2023    Nishant Sindhu      Indian   All-Rounder    \n",
      "..      ...                ...         ...           ...   \n",
      "279    2022  Fazalhaq Farooqi    Overseas        Bowler    \n",
      "280    2022       Sean Abbott    Overseas        Bowler    \n",
      "281    2022         R Samarth      Indian       Batsman    \n",
      "282    2022    Shashank Singh      Indian   All-Rounder    \n",
      "283    2022     Saurabh Dubey      Indian        Bowler    \n",
      "\n",
      "                     Team         Price  \n",
      "0     Chennai Super Kings    50,00,000   \n",
      "1     Chennai Super Kings    20,00,000   \n",
      "2     Chennai Super Kings  1,00,00,000   \n",
      "3     Chennai Super Kings    20,00,000   \n",
      "4     Chennai Super Kings    60,00,000   \n",
      "..                    ...           ...  \n",
      "279   Sunrisers Hyderabad    50,00,000   \n",
      "280   Sunrisers Hyderabad  2,40,00,000   \n",
      "281   Sunrisers Hyderabad    20,00,000   \n",
      "282   Sunrisers Hyderabad    20,00,000   \n",
      "283   Sunrisers Hyderabad    20,00,000   \n",
      "\n",
      "[284 rows x 6 columns]\n"
     ]
    }
   ],
   "source": [
    "import pandas as pd\n",
    "\n",
    "# To dispaly data present in dataset \n",
    "data = pd.read_csv(\"./ipl-sold-players.csv\")\n",
    "print(data)"
   ]
  },
  {
   "cell_type": "code",
   "execution_count": 4,
   "id": "de9e729e",
   "metadata": {},
   "outputs": [
    {
     "name": "stdout",
     "output_type": "stream",
     "text": [
      "     Season               Name\n",
      "0      2023    Ajinkya Rahane \n",
      "1      2023     Bhagath Varma \n",
      "2      2023     Kyle Jamieson \n",
      "3      2023       Ajay Mandal \n",
      "4      2023    Nishant Sindhu \n",
      "..      ...                ...\n",
      "279    2022  Fazalhaq Farooqi \n",
      "280    2022       Sean Abbott \n",
      "281    2022         R Samarth \n",
      "282    2022    Shashank Singh \n",
      "283    2022     Saurabh Dubey \n",
      "\n",
      "[284 rows x 2 columns]\n"
     ]
    }
   ],
   "source": [
    "# To dispaly data present in columns\n",
    "data[['Season', 'Name']]"
   ]
  },
  {
   "cell_type": "code",
   "execution_count": 5,
   "id": "a786d229",
   "metadata": {
    "scrolled": true
   },
   "outputs": [
    {
     "data": {
      "text/html": [
       "<div>\n",
       "<style scoped>\n",
       "    .dataframe tbody tr th:only-of-type {\n",
       "        vertical-align: middle;\n",
       "    }\n",
       "\n",
       "    .dataframe tbody tr th {\n",
       "        vertical-align: top;\n",
       "    }\n",
       "\n",
       "    .dataframe thead th {\n",
       "        text-align: right;\n",
       "    }\n",
       "</style>\n",
       "<table border=\"1\" class=\"dataframe\">\n",
       "  <thead>\n",
       "    <tr style=\"text-align: right;\">\n",
       "      <th></th>\n",
       "      <th>Season</th>\n",
       "      <th>Name</th>\n",
       "      <th>Nationality</th>\n",
       "      <th>Type</th>\n",
       "      <th>Team</th>\n",
       "      <th>Price</th>\n",
       "    </tr>\n",
       "  </thead>\n",
       "  <tbody>\n",
       "    <tr>\n",
       "      <th>0</th>\n",
       "      <td>2023</td>\n",
       "      <td>Ajinkya Rahane</td>\n",
       "      <td>Indian</td>\n",
       "      <td>Batter</td>\n",
       "      <td>Chennai Super Kings</td>\n",
       "      <td>50,00,000</td>\n",
       "    </tr>\n",
       "    <tr>\n",
       "      <th>1</th>\n",
       "      <td>2023</td>\n",
       "      <td>Bhagath Varma</td>\n",
       "      <td>Indian</td>\n",
       "      <td>All-Rounder</td>\n",
       "      <td>Chennai Super Kings</td>\n",
       "      <td>20,00,000</td>\n",
       "    </tr>\n",
       "    <tr>\n",
       "      <th>2</th>\n",
       "      <td>2023</td>\n",
       "      <td>Kyle Jamieson</td>\n",
       "      <td>Overseas</td>\n",
       "      <td>Bowler</td>\n",
       "      <td>Chennai Super Kings</td>\n",
       "      <td>1,00,00,000</td>\n",
       "    </tr>\n",
       "    <tr>\n",
       "      <th>3</th>\n",
       "      <td>2023</td>\n",
       "      <td>Ajay Mandal</td>\n",
       "      <td>Indian</td>\n",
       "      <td>All-Rounder</td>\n",
       "      <td>Chennai Super Kings</td>\n",
       "      <td>20,00,000</td>\n",
       "    </tr>\n",
       "    <tr>\n",
       "      <th>4</th>\n",
       "      <td>2023</td>\n",
       "      <td>Nishant Sindhu</td>\n",
       "      <td>Indian</td>\n",
       "      <td>All-Rounder</td>\n",
       "      <td>Chennai Super Kings</td>\n",
       "      <td>60,00,000</td>\n",
       "    </tr>\n",
       "  </tbody>\n",
       "</table>\n",
       "</div>"
      ],
      "text/plain": [
       "   Season             Name Nationality          Type                  Team  \\\n",
       "0    2023  Ajinkya Rahane      Indian        Batter    Chennai Super Kings   \n",
       "1    2023   Bhagath Varma      Indian   All-Rounder    Chennai Super Kings   \n",
       "2    2023   Kyle Jamieson    Overseas        Bowler    Chennai Super Kings   \n",
       "3    2023     Ajay Mandal      Indian   All-Rounder    Chennai Super Kings   \n",
       "4    2023  Nishant Sindhu      Indian   All-Rounder    Chennai Super Kings   \n",
       "\n",
       "          Price  \n",
       "0    50,00,000   \n",
       "1    20,00,000   \n",
       "2  1,00,00,000   \n",
       "3    20,00,000   \n",
       "4    60,00,000   "
      ]
     },
     "execution_count": 5,
     "metadata": {},
     "output_type": "execute_result"
    }
   ],
   "source": [
    "# To display top 5 rows of dataset\n",
    "data.head()"
   ]
  },
  {
   "cell_type": "code",
   "execution_count": 6,
   "id": "ff6d8304",
   "metadata": {},
   "outputs": [
    {
     "data": {
      "text/plain": [
       "Season                         2023\n",
       "Name                Ajinkya Rahane \n",
       "Nationality                 Indian \n",
       "Type                        Batter \n",
       "Team            Chennai Super Kings\n",
       "Price                    50,00,000 \n",
       "Name: 0, dtype: object"
      ]
     },
     "execution_count": 6,
     "metadata": {},
     "output_type": "execute_result"
    }
   ],
   "source": [
    "# To display data present in row\n",
    "data.iloc[0]"
   ]
  },
  {
   "cell_type": "code",
   "execution_count": 7,
   "id": "46a5ff95",
   "metadata": {},
   "outputs": [
    {
     "data": {
      "text/plain": [
       "Season                         2022\n",
       "Name                 Saurabh Dubey \n",
       "Nationality                 Indian \n",
       "Type                        Bowler \n",
       "Team            Sunrisers Hyderabad\n",
       "Price                    20,00,000 \n",
       "Name: 283, dtype: object"
      ]
     },
     "execution_count": 7,
     "metadata": {},
     "output_type": "execute_result"
    }
   ],
   "source": [
    "data.iloc[-1]"
   ]
  },
  {
   "cell_type": "code",
   "execution_count": 8,
   "id": "975ab57c",
   "metadata": {},
   "outputs": [
    {
     "data": {
      "text/html": [
       "<div>\n",
       "<style scoped>\n",
       "    .dataframe tbody tr th:only-of-type {\n",
       "        vertical-align: middle;\n",
       "    }\n",
       "\n",
       "    .dataframe tbody tr th {\n",
       "        vertical-align: top;\n",
       "    }\n",
       "\n",
       "    .dataframe thead th {\n",
       "        text-align: right;\n",
       "    }\n",
       "</style>\n",
       "<table border=\"1\" class=\"dataframe\">\n",
       "  <thead>\n",
       "    <tr style=\"text-align: right;\">\n",
       "      <th></th>\n",
       "      <th>Season</th>\n",
       "      <th>Name</th>\n",
       "      <th>Nationality</th>\n",
       "      <th>Type</th>\n",
       "      <th>Team</th>\n",
       "      <th>Price</th>\n",
       "    </tr>\n",
       "  </thead>\n",
       "  <tbody>\n",
       "    <tr>\n",
       "      <th>279</th>\n",
       "      <td>2022</td>\n",
       "      <td>Fazalhaq Farooqi</td>\n",
       "      <td>Overseas</td>\n",
       "      <td>Bowler</td>\n",
       "      <td>Sunrisers Hyderabad</td>\n",
       "      <td>50,00,000</td>\n",
       "    </tr>\n",
       "    <tr>\n",
       "      <th>280</th>\n",
       "      <td>2022</td>\n",
       "      <td>Sean Abbott</td>\n",
       "      <td>Overseas</td>\n",
       "      <td>Bowler</td>\n",
       "      <td>Sunrisers Hyderabad</td>\n",
       "      <td>2,40,00,000</td>\n",
       "    </tr>\n",
       "    <tr>\n",
       "      <th>281</th>\n",
       "      <td>2022</td>\n",
       "      <td>R Samarth</td>\n",
       "      <td>Indian</td>\n",
       "      <td>Batsman</td>\n",
       "      <td>Sunrisers Hyderabad</td>\n",
       "      <td>20,00,000</td>\n",
       "    </tr>\n",
       "    <tr>\n",
       "      <th>282</th>\n",
       "      <td>2022</td>\n",
       "      <td>Shashank Singh</td>\n",
       "      <td>Indian</td>\n",
       "      <td>All-Rounder</td>\n",
       "      <td>Sunrisers Hyderabad</td>\n",
       "      <td>20,00,000</td>\n",
       "    </tr>\n",
       "    <tr>\n",
       "      <th>283</th>\n",
       "      <td>2022</td>\n",
       "      <td>Saurabh Dubey</td>\n",
       "      <td>Indian</td>\n",
       "      <td>Bowler</td>\n",
       "      <td>Sunrisers Hyderabad</td>\n",
       "      <td>20,00,000</td>\n",
       "    </tr>\n",
       "  </tbody>\n",
       "</table>\n",
       "</div>"
      ],
      "text/plain": [
       "     Season               Name Nationality          Type  \\\n",
       "279    2022  Fazalhaq Farooqi    Overseas        Bowler    \n",
       "280    2022       Sean Abbott    Overseas        Bowler    \n",
       "281    2022         R Samarth      Indian       Batsman    \n",
       "282    2022    Shashank Singh      Indian   All-Rounder    \n",
       "283    2022     Saurabh Dubey      Indian        Bowler    \n",
       "\n",
       "                     Team         Price  \n",
       "279   Sunrisers Hyderabad    50,00,000   \n",
       "280   Sunrisers Hyderabad  2,40,00,000   \n",
       "281   Sunrisers Hyderabad    20,00,000   \n",
       "282   Sunrisers Hyderabad    20,00,000   \n",
       "283   Sunrisers Hyderabad    20,00,000   "
      ]
     },
     "execution_count": 8,
     "metadata": {},
     "output_type": "execute_result"
    }
   ],
   "source": [
    "# To display the last 5 rows in dataset\n",
    "data.tail()"
   ]
  },
  {
   "cell_type": "code",
   "execution_count": 10,
   "id": "c34cc0db",
   "metadata": {},
   "outputs": [
    {
     "data": {
      "text/plain": [
       "(284, 6)"
      ]
     },
     "execution_count": 10,
     "metadata": {},
     "output_type": "execute_result"
    }
   ],
   "source": [
    "# To dispaly number of rows and columns present in a dataset\n",
    "data.shape"
   ]
  },
  {
   "cell_type": "code",
   "execution_count": 2,
   "id": "2a3d08ec",
   "metadata": {},
   "outputs": [
    {
     "name": "stdout",
     "output_type": "stream",
     "text": [
      "hello\n"
     ]
    }
   ],
   "source": [
    "print(\"hello\")"
   ]
  },
  {
   "cell_type": "code",
   "execution_count": 6,
   "id": "644d4658",
   "metadata": {},
   "outputs": [
    {
     "name": "stdout",
     "output_type": "stream",
     "text": [
      "Season          int64\n",
      "Name           object\n",
      "Nationality    object\n",
      "Type           object\n",
      "Team           object\n",
      "Price          object\n",
      "dtype: object\n"
     ]
    }
   ],
   "source": [
    "import pandas as pd\n",
    "\n",
    "# To dispaly data present in dataset \n",
    "data = pd.read_csv(\"./ipl-sold-players.csv\")\n",
    "\n",
    "# To get dtype of each column\n",
    "print(data.dtypes)"
   ]
  },
  {
   "cell_type": "code",
   "execution_count": 8,
   "id": "720dc96c",
   "metadata": {},
   "outputs": [
    {
     "name": "stdout",
     "output_type": "stream",
     "text": [
      "<class 'pandas.core.frame.DataFrame'>\n",
      "RangeIndex: 284 entries, 0 to 283\n",
      "Data columns (total 6 columns):\n",
      " #   Column       Non-Null Count  Dtype \n",
      "---  ------       --------------  ----- \n",
      " 0   Season       284 non-null    int64 \n",
      " 1   Name         284 non-null    object\n",
      " 2   Nationality  284 non-null    object\n",
      " 3   Type         284 non-null    object\n",
      " 4   Team         284 non-null    object\n",
      " 5   Price        284 non-null    object\n",
      "dtypes: int64(1), object(5)\n",
      "memory usage: 13.4+ KB\n",
      "None\n"
     ]
    }
   ],
   "source": [
    "print(data.info())"
   ]
  },
  {
   "cell_type": "code",
   "execution_count": 9,
   "id": "43d12ba4",
   "metadata": {},
   "outputs": [],
   "source": [
    "# Lecture - 3"
   ]
  },
  {
   "cell_type": "code",
   "execution_count": 10,
   "id": "e2844cc2",
   "metadata": {},
   "outputs": [
    {
     "name": "stdout",
     "output_type": "stream",
     "text": [
      "Season                         2023\n",
      "Name                Ajinkya Rahane \n",
      "Nationality                 Indian \n",
      "Type                        Batter \n",
      "Team            Chennai Super Kings\n",
      "Price                    50,00,000 \n",
      "Name: 0, dtype: object\n"
     ]
    }
   ],
   "source": [
    "# get the first row\n",
    "print(data.loc[0])"
   ]
  },
  {
   "cell_type": "code",
   "execution_count": 14,
   "id": "f2827bf0",
   "metadata": {},
   "outputs": [
    {
     "name": "stdout",
     "output_type": "stream",
     "text": [
      "     Season            Name Nationality     Type                  Team  \\\n",
      "283    2022  Saurabh Dubey      Indian   Bowler    Sunrisers Hyderabad   \n",
      "\n",
      "          Price  \n",
      "283  20,00,000   \n"
     ]
    }
   ],
   "source": [
    "# get the last row\n",
    "print(data.tail(1))"
   ]
  },
  {
   "cell_type": "code",
   "execution_count": 13,
   "id": "508c7a7e",
   "metadata": {},
   "outputs": [
    {
     "name": "stdout",
     "output_type": "stream",
     "text": [
      "   Season             Name Nationality     Type                  Team  \\\n",
      "0    2023  Ajinkya Rahane      Indian   Batter    Chennai Super Kings   \n",
      "\n",
      "        Price  \n",
      "0  50,00,000   \n"
     ]
    }
   ],
   "source": [
    "# get the first row\n",
    "print(data.head(1))"
   ]
  },
  {
   "cell_type": "code",
   "execution_count": 16,
   "id": "d22e1284",
   "metadata": {},
   "outputs": [
    {
     "name": "stdout",
     "output_type": "stream",
     "text": [
      "    Season              Name Nationality          Type  \\\n",
      "0     2023   Ajinkya Rahane      Indian        Batter    \n",
      "10    2023    Manish Pandey      Indian        Batter    \n",
      "20    2023  Shakib Al Hasan    Overseas   All-Rounder    \n",
      "\n",
      "                      Team         Price  \n",
      "0      Chennai Super Kings    50,00,000   \n",
      "10          Delhi Capitals  2,40,00,000   \n",
      "20   Kolkata Knight Riders  1,50,00,000   \n"
     ]
    }
   ],
   "source": [
    "# subsetting multiple rows\n",
    "print(data.loc[[0, 10, 20]])"
   ]
  },
  {
   "cell_type": "code",
   "execution_count": 17,
   "id": "0292f279",
   "metadata": {},
   "outputs": [
    {
     "data": {
      "text/plain": [
       "Season                         2022\n",
       "Name                 Saurabh Dubey \n",
       "Nationality                 Indian \n",
       "Type                        Bowler \n",
       "Team            Sunrisers Hyderabad\n",
       "Price                    20,00,000 \n",
       "Name: 283, dtype: object"
      ]
     },
     "execution_count": 17,
     "metadata": {},
     "output_type": "execute_result"
    }
   ],
   "source": [
    "data.iloc[-1]"
   ]
  },
  {
   "cell_type": "code",
   "execution_count": 1,
   "id": "97774e3d",
   "metadata": {},
   "outputs": [],
   "source": [
    "# slicing"
   ]
  },
  {
   "cell_type": "code",
   "execution_count": 4,
   "id": "662afd68",
   "metadata": {},
   "outputs": [
    {
     "data": {
      "text/html": [
       "<div>\n",
       "<style scoped>\n",
       "    .dataframe tbody tr th:only-of-type {\n",
       "        vertical-align: middle;\n",
       "    }\n",
       "\n",
       "    .dataframe tbody tr th {\n",
       "        vertical-align: top;\n",
       "    }\n",
       "\n",
       "    .dataframe thead th {\n",
       "        text-align: right;\n",
       "    }\n",
       "</style>\n",
       "<table border=\"1\" class=\"dataframe\">\n",
       "  <thead>\n",
       "    <tr style=\"text-align: right;\">\n",
       "      <th></th>\n",
       "      <th>Name</th>\n",
       "    </tr>\n",
       "  </thead>\n",
       "  <tbody>\n",
       "    <tr>\n",
       "      <th>0</th>\n",
       "      <td>Ajinkya Rahane</td>\n",
       "    </tr>\n",
       "    <tr>\n",
       "      <th>1</th>\n",
       "      <td>Bhagath Varma</td>\n",
       "    </tr>\n",
       "    <tr>\n",
       "      <th>2</th>\n",
       "      <td>Kyle Jamieson</td>\n",
       "    </tr>\n",
       "    <tr>\n",
       "      <th>3</th>\n",
       "      <td>Ajay Mandal</td>\n",
       "    </tr>\n",
       "    <tr>\n",
       "      <th>4</th>\n",
       "      <td>Nishant Sindhu</td>\n",
       "    </tr>\n",
       "    <tr>\n",
       "      <th>...</th>\n",
       "      <td>...</td>\n",
       "    </tr>\n",
       "    <tr>\n",
       "      <th>279</th>\n",
       "      <td>Fazalhaq Farooqi</td>\n",
       "    </tr>\n",
       "    <tr>\n",
       "      <th>280</th>\n",
       "      <td>Sean Abbott</td>\n",
       "    </tr>\n",
       "    <tr>\n",
       "      <th>281</th>\n",
       "      <td>R Samarth</td>\n",
       "    </tr>\n",
       "    <tr>\n",
       "      <th>282</th>\n",
       "      <td>Shashank Singh</td>\n",
       "    </tr>\n",
       "    <tr>\n",
       "      <th>283</th>\n",
       "      <td>Saurabh Dubey</td>\n",
       "    </tr>\n",
       "  </tbody>\n",
       "</table>\n",
       "<p>284 rows × 1 columns</p>\n",
       "</div>"
      ],
      "text/plain": [
       "                  Name\n",
       "0      Ajinkya Rahane \n",
       "1       Bhagath Varma \n",
       "2       Kyle Jamieson \n",
       "3         Ajay Mandal \n",
       "4      Nishant Sindhu \n",
       "..                 ...\n",
       "279  Fazalhaq Farooqi \n",
       "280       Sean Abbott \n",
       "281         R Samarth \n",
       "282    Shashank Singh \n",
       "283     Saurabh Dubey \n",
       "\n",
       "[284 rows x 1 columns]"
      ]
     },
     "execution_count": 4,
     "metadata": {},
     "output_type": "execute_result"
    }
   ],
   "source": [
    "import pandas as pd\n",
    "\n",
    "# To dispaly data present in dataset \n",
    "data = pd.read_csv(\"./ipl-sold-players.csv\")\n",
    "\n",
    "data.loc[:, ['Name']]"
   ]
  },
  {
   "cell_type": "code",
   "execution_count": null,
   "id": "13ad4f0e",
   "metadata": {},
   "outputs": [],
   "source": []
  }
 ],
 "metadata": {
  "kernelspec": {
   "display_name": "Python 3",
   "language": "python",
   "name": "python3"
  },
  "language_info": {
   "codemirror_mode": {
    "name": "ipython",
    "version": 3
   },
   "file_extension": ".py",
   "mimetype": "text/x-python",
   "name": "python",
   "nbconvert_exporter": "python",
   "pygments_lexer": "ipython3",
   "version": "3.10.0 (tags/v3.10.0:b494f59, Oct  4 2021, 19:00:18) [MSC v.1929 64 bit (AMD64)]"
  },
  "vscode": {
   "interpreter": {
    "hash": "369f2c481f4da34e4445cda3fffd2e751bd1c4d706f27375911949ba6bb62e1c"
   }
  }
 },
 "nbformat": 4,
 "nbformat_minor": 5
}
